{
 "cells": [
  {
   "cell_type": "code",
   "execution_count": 1,
   "metadata": {},
   "outputs": [],
   "source": [
    "from probers import ClassicalProber\n",
    "from sentence_transformers import SentenceTransformer\n",
    "import pandas as pd"
   ]
  },
  {
   "cell_type": "code",
   "execution_count": 2,
   "metadata": {},
   "outputs": [],
   "source": [
    "english_train = \"https://github.com/MilaNLProc/translation_bias/raw/master/data/en_us/en_us_TRAIN.xlsx\"\n",
    "english_test = \"https://github.com/MilaNLProc/translation_bias/raw/master/data/en_us/en_us_TEST.xlsx\"\n",
    "\n",
    "\n",
    "english_train = pd.read_excel(english_train)\n",
    "english_train = english_train.dropna()\n",
    "english_train = english_train[english_train[\"text\"].apply(lambda x : len(x.split()) < 400)]\n",
    "\n",
    "\n",
    "english_test = pd.read_excel(english_test)\n",
    "english_test = english_test.dropna()\n",
    "\n",
    "\n"
   ]
  },
  {
   "cell_type": "code",
   "execution_count": 2,
   "metadata": {},
   "outputs": [],
   "source": [
    "models = \"roberta-base-1B-1,roberta-base-1B-2,roberta-base-1B-3,roberta-base-100M-1,roberta-base-100M-2,roberta-base-100M-3,roberta-base-10M-1,roberta-base-10M-2,roberta-base-10M-3,roberta-med-small-1M-1,roberta-med-small-1M-2,roberta-med-small-1M-3\".split(\",\")"
   ]
  },
  {
   "cell_type": "code",
   "execution_count": null,
   "metadata": {},
   "outputs": [],
   "source": [
    "from collections import defaultdict\n",
    "results = defaultdict(list)\n",
    "\n",
    "for m in models:\n",
    "    for r in [0, 1, 2]:\n",
    "        st = SentenceTransformer(r)\n",
    "\n",
    "        mldprober = ClassicalProber(st, 512)\n",
    "\n",
    "        results[m].append(mldprober.run(english_train[\"text\"].values.tolist(), english_train[\"gender\"].values.tolist()))"
   ]
  },
  {
   "cell_type": "code",
   "execution_count": 7,
   "metadata": {},
   "outputs": [
    {
     "data": {
      "application/vnd.jupyter.widget-view+json": {
       "model_id": "ca927491be704af687f17f3f1df37573",
       "version_major": 2,
       "version_minor": 0
      },
      "text/plain": [
       "Downloading:   0%|          | 0.00/391 [00:00<?, ?B/s]"
      ]
     },
     "metadata": {},
     "output_type": "display_data"
    },
    {
     "data": {
      "application/vnd.jupyter.widget-view+json": {
       "model_id": "6caffa43bfb043f1a3603212adc05312",
       "version_major": 2,
       "version_minor": 0
      },
      "text/plain": [
       "Downloading:   0%|          | 0.00/9.08k [00:00<?, ?B/s]"
      ]
     },
     "metadata": {},
     "output_type": "display_data"
    },
    {
     "data": {
      "application/vnd.jupyter.widget-view+json": {
       "model_id": "d4a71304596c410db638455f34b77f13",
       "version_major": 2,
       "version_minor": 0
      },
      "text/plain": [
       "Downloading:   0%|          | 0.00/481 [00:00<?, ?B/s]"
      ]
     },
     "metadata": {},
     "output_type": "display_data"
    },
    {
     "data": {
      "application/vnd.jupyter.widget-view+json": {
       "model_id": "043a6d1158f94307bc53e9f67ee2c22a",
       "version_major": 2,
       "version_minor": 0
      },
      "text/plain": [
       "Downloading:   0%|          | 0.00/603k [00:00<?, ?B/s]"
      ]
     },
     "metadata": {},
     "output_type": "display_data"
    },
    {
     "data": {
      "application/vnd.jupyter.widget-view+json": {
       "model_id": "76f04c4145a84f61b0c86f24d1548255",
       "version_major": 2,
       "version_minor": 0
      },
      "text/plain": [
       "Downloading:   0%|          | 0.00/456k [00:00<?, ?B/s]"
      ]
     },
     "metadata": {},
     "output_type": "display_data"
    },
    {
     "data": {
      "application/vnd.jupyter.widget-view+json": {
       "model_id": "827a264d04bf4ed8bc542866be3afa85",
       "version_major": 2,
       "version_minor": 0
      },
      "text/plain": [
       "Downloading:   0%|          | 0.00/501M [00:00<?, ?B/s]"
      ]
     },
     "metadata": {},
     "output_type": "display_data"
    },
    {
     "data": {
      "application/vnd.jupyter.widget-view+json": {
       "model_id": "2fca5ff831a94672927d2ea5800b2a2e",
       "version_major": 2,
       "version_minor": 0
      },
      "text/plain": [
       "Downloading:   0%|          | 0.00/1.36M [00:00<?, ?B/s]"
      ]
     },
     "metadata": {},
     "output_type": "display_data"
    },
    {
     "data": {
      "application/vnd.jupyter.widget-view+json": {
       "model_id": "2d742037ff8a44218ad82b92f8f40793",
       "version_major": 2,
       "version_minor": 0
      },
      "text/plain": [
       "Downloading:   0%|          | 0.00/899k [00:00<?, ?B/s]"
      ]
     },
     "metadata": {},
     "output_type": "display_data"
    },
    {
     "name": "stderr",
     "output_type": "stream",
     "text": [
      "WARNING:root:No sentence-transformers model found with name /home/vinid/.cache/torch/sentence_transformers/roberta-base. Creating a new one with MEAN pooling.\n",
      "Some weights of the model checkpoint at /home/vinid/.cache/torch/sentence_transformers/roberta-base were not used when initializing RobertaModel: ['lm_head.layer_norm.bias', 'lm_head.decoder.weight', 'lm_head.layer_norm.weight', 'lm_head.dense.bias', 'lm_head.dense.weight', 'lm_head.bias']\n",
      "- This IS expected if you are initializing RobertaModel from the checkpoint of a model trained on another task or with another architecture (e.g. initializing a BertForSequenceClassification model from a BertForPreTraining model).\n",
      "- This IS NOT expected if you are initializing RobertaModel from the checkpoint of a model that you expect to be exactly identical (initializing a BertForSequenceClassification model from a BertForSequenceClassification model).\n"
     ]
    },
    {
     "name": "stdout",
     "output_type": "stream",
     "text": [
      "Validation loss decreased (inf --> 70.219276).  Saving model ...\n",
      "Validation loss decreased (70.219276 --> 67.902344).  Saving model ...\n",
      "Validation loss decreased (67.902344 --> 66.250961).  Saving model ...\n",
      "Validation loss decreased (66.250961 --> 65.201897).  Saving model ...\n",
      "Validation loss decreased (65.201897 --> 64.648849).  Saving model ...\n",
      "Validation loss decreased (64.648849 --> 64.380066).  Saving model ...\n",
      "Validation loss decreased (64.380066 --> 64.235428).  Saving model ...\n",
      "Validation loss decreased (64.235428 --> 64.194435).  Saving model ...\n",
      "EarlyStopping counter: 1 out of 5\n",
      "EarlyStopping counter: 2 out of 5\n",
      "EarlyStopping counter: 3 out of 5\n",
      "EarlyStopping counter: 4 out of 5\n",
      "EarlyStopping counter: 5 out of 5\n",
      "Early stopping\n"
     ]
    }
   ],
   "source": [
    "st = SentenceTransformer(\"roberta-base\")\n",
    "\n",
    "mldprober = ClassicalProber(st, 768)\n",
    "\n",
    "predicitions = mldprober.run(english_train[\"text\"].values.tolist(), english_train[\"gender\"].values.tolist())"
   ]
  },
  {
   "cell_type": "code",
   "execution_count": 8,
   "metadata": {},
   "outputs": [],
   "source": [
    "from sklearn.metrics import *"
   ]
  },
  {
   "cell_type": "code",
   "execution_count": 9,
   "metadata": {},
   "outputs": [
    {
     "name": "stdout",
     "output_type": "stream",
     "text": [
      "              precision    recall  f1-score   support\n",
      "\n",
      "           0       0.71      0.62      0.66       493\n",
      "           1       0.67      0.75      0.71       503\n",
      "\n",
      "    accuracy                           0.69       996\n",
      "   macro avg       0.69      0.69      0.69       996\n",
      "weighted avg       0.69      0.69      0.69       996\n",
      "\n"
     ]
    }
   ],
   "source": [
    "print(classification_report(predicitions[1], predicitions[0]))"
   ]
  },
  {
   "cell_type": "code",
   "execution_count": 6,
   "metadata": {},
   "outputs": [
    {
     "name": "stdout",
     "output_type": "stream",
     "text": [
      "              precision    recall  f1-score   support\n",
      "\n",
      "           0       0.64      0.54      0.59       493\n",
      "           1       0.61      0.71      0.66       503\n",
      "\n",
      "    accuracy                           0.63       996\n",
      "   macro avg       0.63      0.62      0.62       996\n",
      "weighted avg       0.63      0.63      0.62       996\n",
      "\n"
     ]
    }
   ],
   "source": []
  },
  {
   "cell_type": "code",
   "execution_count": 9,
   "metadata": {},
   "outputs": [
    {
     "data": {
      "text/plain": [
       "4"
      ]
     },
     "execution_count": 9,
     "metadata": {},
     "output_type": "execute_result"
    }
   ],
   "source": [
    "len(predicitions[1])"
   ]
  },
  {
   "cell_type": "code",
   "execution_count": 11,
   "metadata": {},
   "outputs": [
    {
     "data": {
      "text/plain": [
       "tensor([0, 0, 0, 1])"
      ]
     },
     "execution_count": 11,
     "metadata": {},
     "output_type": "execute_result"
    }
   ],
   "source": [
    "predicitions[1]"
   ]
  },
  {
   "cell_type": "code",
   "execution_count": null,
   "metadata": {},
   "outputs": [],
   "source": []
  }
 ],
 "metadata": {
  "kernelspec": {
   "display_name": "Python 3",
   "language": "python",
   "name": "python3"
  },
  "language_info": {
   "codemirror_mode": {
    "name": "ipython",
    "version": 3
   },
   "file_extension": ".py",
   "mimetype": "text/x-python",
   "name": "python",
   "nbconvert_exporter": "python",
   "pygments_lexer": "ipython3",
   "version": "3.8.10"
  }
 },
 "nbformat": 4,
 "nbformat_minor": 4
}
